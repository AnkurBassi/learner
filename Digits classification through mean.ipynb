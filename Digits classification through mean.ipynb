{
 "cells": [
  {
   "cell_type": "code",
   "execution_count": 1,
   "id": "distant-lindsay",
   "metadata": {},
   "outputs": [],
   "source": [
    "import fastbook\n",
    "fastbook.setup_book()\n",
    "from fastai.vision.all import *\n",
    "from fastbook import *\n",
    "\n",
    "from PIL import Image\n",
    "from matplotlib import cm"
   ]
  },
  {
   "cell_type": "code",
   "execution_count": 2,
   "id": "intermediate-crime",
   "metadata": {},
   "outputs": [
    {
     "data": {
      "text/plain": [
       "(#2) [Path('testing'),Path('training')]"
      ]
     },
     "execution_count": 2,
     "metadata": {},
     "output_type": "execute_result"
    }
   ],
   "source": [
    "path = untar_data(URLs.MNIST,dest='.')\n",
    "Path.BASE_PATH = path\n",
    "path.ls()"
   ]
  },
  {
   "cell_type": "code",
   "execution_count": 20,
   "id": "still-charity",
   "metadata": {},
   "outputs": [],
   "source": [
    "def convert_all_img_to_tensors(path):\n",
    "    '''\n",
    "        Convert all images to tensor by opening every directory in the path and \n",
    "        fetches the files in it one by one and converting to tensors simultaneously.\n",
    "            Requires:\n",
    "            path=Path class object\n",
    "    '''\n",
    "    all3s=[np.array(Image.open(o)) for o in (path).ls().sorted()]\n",
    "    all3stensor=tensor(all3s)/255\n",
    "    return all3stensor"
   ]
  },
  {
   "cell_type": "code",
   "execution_count": 21,
   "id": "waiting-queue",
   "metadata": {},
   "outputs": [],
   "source": [
    "def show_img(tensor_array,unnorm=True):\n",
    "    '''\n",
    "        Conver a tensor into a PIL image\n",
    "        set unnorm = False if you did not normalized the tensor by 255\n",
    "        default is True for unnorm\n",
    "    '''\n",
    "    pilnp=np.array(tensor_array)\n",
    "    if unnorm:\n",
    "        im=Image.fromarray(np.uint8(pilnp*255))\n",
    "    else:\n",
    "        im=Image.fromarray(np.uint8(pilnp))\n",
    "    return im    "
   ]
  },
  {
   "cell_type": "code",
   "execution_count": 22,
   "id": "detected-wrist",
   "metadata": {},
   "outputs": [],
   "source": [
    "def mnist_distance(a,b): \n",
    "    '''\n",
    "        Subtract two tensors and turn the negative diffrences to positive.Afterwards\n",
    "        the mean is returned of the resulting values.\n",
    "        (-1,-2) means to take the average from last dimension and second last dimension\n",
    "        i.e across whole row and column\n",
    "    '''\n",
    "    return (a-b).abs().mean((-1,-2))\n"
   ]
  },
  {
   "cell_type": "code",
   "execution_count": 23,
   "id": "brazilian-priest",
   "metadata": {},
   "outputs": [],
   "source": [
    "def predict(imglst):\n",
    "    '''\n",
    "        Returns the prediction of each tensor passed.\n",
    "        Takes a tensor as an argument\n",
    "    '''\n",
    "    preds=list()\n",
    "    for j in range(imglst.shape[0]):\n",
    "        lstdist=np.array([mnist_distance(imglst[j],All_digits_mean[i]) for i in range(10)])\n",
    "        preds.extend([np.argmin(lstdist)])\n",
    "    return preds"
   ]
  },
  {
   "cell_type": "code",
   "execution_count": 24,
   "id": "entertaining-lewis",
   "metadata": {},
   "outputs": [],
   "source": [
    "def accuracy(preds,y):\n",
    "    '''\n",
    "        Checks and returns the percent of values in the the list matching with the value in the y.\n",
    "        Requires:\n",
    "        1. List of predicted values\n",
    "        2. Y value\n",
    "    '''\n",
    "    chk=[(i==y) for i in preds]\n",
    "    chk=np.array(chk)\n",
    "    return chk.sum()/len(chk)\n",
    "    "
   ]
  },
  {
   "cell_type": "code",
   "execution_count": 45,
   "id": "tough-stylus",
   "metadata": {},
   "outputs": [],
   "source": [
    "def debug_test_digit(digit,i):\n",
    "    '''\n",
    "        Use when you want to check the distance of an individual image with the means of every digit\n",
    "    '''\n",
    "    show_image(All_digits[digit][i]);\n",
    "    lstdist=np.array([mnist_distance(All_digits[digit][i],All_digits_mean[p]) for p in range(10)])\n",
    "    return pd.DataFrame(lstdist,columns=['Sorted closest digit']).sort_values(by='Sorted closest digit'), f' minimum distance with digit = {np.argmin(lstdist)}'\n"
   ]
  },
  {
   "cell_type": "code",
   "execution_count": 9,
   "id": "dental-selection",
   "metadata": {},
   "outputs": [],
   "source": [
    "All_digit_path=(path/'training').ls().sorted()"
   ]
  },
  {
   "cell_type": "code",
   "execution_count": 10,
   "id": "attractive-break",
   "metadata": {},
   "outputs": [],
   "source": [
    "All_digits=[convert_all_img_to_tensors(All_digit_path[i]) for i in list(range(10))]\n"
   ]
  },
  {
   "cell_type": "code",
   "execution_count": 11,
   "id": "coordinated-adventure",
   "metadata": {},
   "outputs": [],
   "source": [
    "All_digits_mean=[All_digits[i].mean(0) for i in range(10)]"
   ]
  },
  {
   "cell_type": "code",
   "execution_count": 38,
   "id": "plain-incidence",
   "metadata": {},
   "outputs": [],
   "source": [
    "avg_acc=np.array([accuracy(predict(All_digits[i]),i) for i in range(10)])"
   ]
  },
  {
   "cell_type": "code",
   "execution_count": 39,
   "id": "fancy-briefing",
   "metadata": {},
   "outputs": [
    {
     "name": "stdout",
     "output_type": "stream",
     "text": [
      "Accuracy on training set through mean strategy = 0.64288621674314\n"
     ]
    }
   ],
   "source": [
    "print(f'Accuracy on training set through mean strategy = {np.array(avg_acc).sum()/len(avg_acc)}')"
   ]
  },
  {
   "cell_type": "code",
   "execution_count": 28,
   "id": "republican-waters",
   "metadata": {},
   "outputs": [],
   "source": [
    "def checking_on_valid():\n",
    "    '''\n",
    "        Checks the accuracy on the testing dataset\n",
    "    '''\n",
    "    All_digit_path_testing=(path/'testing').ls().sorted()\n",
    "    \n",
    "    All_digits_testing=[convert_all_img_to_tensors(All_digit_path_testing[i]) for i in list(range(10))]\n",
    "    \n",
    "    All_digits_mean_testing=[All_digits_testing[i].mean(0) for i in range(10)]\n",
    "    \n",
    "    avg_acc=np.array([accuracy(predict(All_digits_testing[i]),i) for i in range(10)])\n",
    "    \n",
    "    return f'Accuracy on testing set through mean strategy = {np.array(avg_acc).sum()/len(avg_acc)}'\n"
   ]
  },
  {
   "cell_type": "code",
   "execution_count": 15,
   "id": "criminal-mistake",
   "metadata": {},
   "outputs": [
    {
     "data": {
      "text/plain": [
       "'Accuracy on testing set through mean strategy = 0.6610330933054313'"
      ]
     },
     "execution_count": 15,
     "metadata": {},
     "output_type": "execute_result"
    }
   ],
   "source": [
    "checking_on_valid()"
   ]
  },
  {
   "cell_type": "markdown",
   "id": "architectural-nicaragua",
   "metadata": {},
   "source": [
    "### Checking and evaluating the distance of the third image in the digit 5 training data set from the mean of all the digits "
   ]
  },
  {
   "cell_type": "code",
   "execution_count": 46,
   "id": "reduced-opera",
   "metadata": {},
   "outputs": [
    {
     "name": "stdout",
     "output_type": "stream",
     "text": [
      "(   Sorted closest digit\n",
      "1              0.122167\n",
      "5              0.125902\n",
      "4              0.137532\n",
      "8              0.140145\n",
      "9              0.142994\n",
      "6              0.149457\n",
      "3              0.154690\n",
      "7              0.155289\n",
      "2              0.162891\n",
      "0              0.170463, ' minimum distance with digit = 1')\n"
     ]
    },
    {
     "data": {
      "image/png": "[encoded data removed]",
      "text/plain": [
       "<Figure size 72x72 with 1 Axes>"
      ]
     },
     "metadata": {
      "needs_background": "light"
     },
     "output_type": "display_data"
    }
   ],
   "source": [
    "print(debug_test_digit(5,3))"
   ]
  },
  {
   "cell_type": "code",
   "execution_count": 47,
   "id": "electric-florida",
   "metadata": {},
   "outputs": [
    {
     "name": "stdout",
     "output_type": "stream",
     "text": [
      "(   Sorted closest digit\n",
      "5              0.133417\n",
      "1              0.133523\n",
      "3              0.136085\n",
      "7              0.144137\n",
      "8              0.145668\n",
      "9              0.149752\n",
      "6              0.156139\n",
      "2              0.163941\n",
      "4              0.164997\n",
      "0              0.169432, ' minimum distance with digit = 5')\n"
     ]
    },
    {
     "data": {
      "image/png": "[encoded data removed]",
      "text/plain": [
       "<Figure size 72x72 with 1 Axes>"
      ]
     },
     "metadata": {
      "needs_background": "light"
     },
     "output_type": "display_data"
    }
   ],
   "source": [
    "print(debug_test_digit(5,0))"
   ]
  },
  {
   "cell_type": "code",
   "execution_count": null,
   "id": "ranging-thermal",
   "metadata": {},
   "outputs": [],
   "source": []
  }
 ],
 "metadata": {
  "kernelspec": {
   "display_name": "Python 3",
   "language": "python",
   "name": "python3"
  },
  "language_info": {
   "codemirror_mode": {
    "name": "ipython",
    "version": 3
   },
   "file_extension": ".py",
   "mimetype": "text/x-python",
   "name": "python",
   "nbconvert_exporter": "python",
   "pygments_lexer": "ipython3",
   "version": "3.6.12"
  }
 },
 "nbformat": 4,
 "nbformat_minor": 5
}
